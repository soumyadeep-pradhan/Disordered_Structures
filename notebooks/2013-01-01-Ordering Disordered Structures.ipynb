{
  "cells": [
    {
      "cell_type": "markdown",
      "metadata": {
        "id": "qKVdKjkqCkS7"
      },
      "source": [
        "# Introduction\n",
        "\n",
        "This notebook demonstrates how to carry out an ordering of a disordered structure using pymatgen."
      ]
    },
    {
      "cell_type": "code",
      "source": [
        "import warnings\n",
        "warnings.filterwarnings('ignore')"
      ],
      "metadata": {
        "id": "SK7ndRxjDhdr"
      },
      "execution_count": 101,
      "outputs": []
    },
    {
      "cell_type": "code",
      "execution_count": 103,
      "metadata": {
        "outputId": "2dba11ba-2ded-46b3-d5f1-326d398725cb",
        "colab": {
          "base_uri": "https://localhost:8080/",
          "height": 845
        },
        "id": "k3_WN7sPC19Q"
      },
      "outputs": [
        {
          "output_type": "stream",
          "name": "stdout",
          "text": [
            "Full Formula (Li0.6 Ti0.2 Mn0.2 O0.6 F0.4)\n",
            "Reduced Formula: Li0.6Ti0.2Mn0.2O0.6F0.4\n",
            "abc   :   2.974374   2.974374   2.974374\n",
            "angles:  60.000000  60.000000  60.000000\n",
            "pbc   :       True       True       True\n",
            "Sites (2)\n",
            "  #  SP                             a    b    c\n",
            "---  ---------------------------  ---  ---  ---\n",
            "  0  Li+:0.6, Ti4+:0.2, Mn3+:0.2  0    0    0\n",
            "  1  O2-:0.6, F-:0.4              0.5  0.5  0.5\n"
          ]
        },
        {
          "output_type": "display_data",
          "data": {
            "text/plain": [
              "<IPython.core.display.Javascript object>"
            ],
            "application/javascript": [
              "(async (port, path, width, height, cache, element) => {\n",
              "    if (!google.colab.kernel.accessAllowed && !cache) {\n",
              "      return;\n",
              "    }\n",
              "    element.appendChild(document.createTextNode(''));\n",
              "    const url = await google.colab.kernel.proxyPort(port, {cache});\n",
              "    const iframe = document.createElement('iframe');\n",
              "    iframe.src = new URL(path, url).toString();\n",
              "    iframe.height = height;\n",
              "    iframe.width = width;\n",
              "    iframe.style.border = 0;\n",
              "    iframe.allow = [\n",
              "        'accelerometer',\n",
              "        'autoplay',\n",
              "        'camera',\n",
              "        'clipboard-read',\n",
              "        'clipboard-write',\n",
              "        'gyroscope',\n",
              "        'magnetometer',\n",
              "        'microphone',\n",
              "        'serial',\n",
              "        'usb',\n",
              "        'xr-spatial-tracking',\n",
              "    ].join('; ');\n",
              "    element.appendChild(iframe);\n",
              "  })(8884, \"/\", \"100%\", 650, false, window.element)"
            ]
          },
          "metadata": {}
        }
      ],
      "source": [
        "# Let us start by creating a disordered CuAu fcc structure.\n",
        "from pymatgen.core import Lattice, Structure\n",
        "\n",
        "# specie = {\"Cu0+\": 0.5, \"Au0+\": 0.5}\n",
        "# cuau = Structure.from_spacegroup(\"Fm-3m\", Lattice.cubic(3.677), [specie], [[0, 0, 0]])\n",
        "cuau = Structure.from_file('/content/LMTOF_order_Disorder_transform_to_primitive.cif')\n",
        "cuau.add_oxidation_state_by_element({\"Li\": +1, \"Mn\": +3,\"Ti\":+4,\"O\":-2,\"F\":-1})\n",
        "print(cuau)\n",
        "cuau"
      ]
    },
    {
      "cell_type": "markdown",
      "metadata": {
        "id": "KLK9QtKSCkTG"
      },
      "source": [
        "Note that each site is now 50% occupied by Cu and Au. Because the ordering algorithms uses an Ewald summation to rank the structures, you need to explicitly specify the oxidation state for each species, even if it is 0. Let us now perform ordering of these sites using two methods."
      ]
    },
    {
      "cell_type": "markdown",
      "metadata": {
        "id": "BFl1D1mLCkTH"
      },
      "source": [
        "## Method 1 - Using the OrderDisorderedStructureTransformation\n",
        "\n",
        "The first method is to use the OrderDisorderedStructureTransformation."
      ]
    },
    {
      "cell_type": "code",
      "source": [
        "from pymatgen.transformations.standard_transformations import SupercellTransformation\n",
        "\n",
        "\n",
        "supercell_transformation = SupercellTransformation.from_scaling_factors(1, 1, 5)\n",
        "supercell_structure = supercell_transformation.apply_transformation(cuau)\n",
        "cuau = supercell_structure"
      ],
      "metadata": {
        "id": "1xCo6UfALmZW"
      },
      "execution_count": 63,
      "outputs": []
    },
    {
      "cell_type": "code",
      "execution_count": 89,
      "metadata": {
        "colab": {
          "base_uri": "https://localhost:8080/"
        },
        "id": "EsajD_DNCkTH",
        "outputId": "654ec0e8-1b73-4a31-c612-002db1dad628"
      },
      "outputs": [
        {
          "output_type": "stream",
          "name": "stdout",
          "text": [
            "10\n"
          ]
        }
      ],
      "source": [
        "from pymatgen.transformations.standard_transformations import (\n",
        "    OrderDisorderedStructureTransformation,\n",
        ")\n",
        "\n",
        "trans = OrderDisorderedStructureTransformation()\n",
        "\n",
        "ss = trans.apply_transformation(cuau, return_ranked_list=False)\n",
        "\n",
        "print(len(ss))\n",
        "\n",
        "# print(ss[0])"
      ]
    },
    {
      "cell_type": "markdown",
      "metadata": {
        "id": "8bVLyjPmCkTI"
      },
      "source": [
        "Note that the OrderDisorderedTransformation (with a sufficiently large return_ranked_list parameter) returns all orderings, including duplicates without accounting for symmetry. A computed ewald energy is returned together with each structure. To eliminate duplicates, the best way is to use StructureMatcher's group_structures method, as demonstrated below."
      ]
    },
    {
      "cell_type": "code",
      "source": [
        "from pymatgen.symmetry.analyzer import SpacegroupAnalyzer\n",
        "from pymatgen.core import Structure, Lattice\n",
        "structure = ss\n",
        "sga_default = SpacegroupAnalyzer(structure)\n",
        "sg_symbol, sg_number, sg_crystal = sga_default.get_space_group_symbol(), sga_default.get_space_group_number(),sga_default.get_crystal_system()\n",
        "\n",
        "\n",
        "print(f\"crystal:{sg_crystal}, symbol: {sg_symbol}, number: {sg_number}\")"
      ],
      "metadata": {
        "colab": {
          "base_uri": "https://localhost:8080/"
        },
        "id": "aqZ5jsKQhwg6",
        "outputId": "f8b780af-1ce0-4803-acd3-29b7952a4149"
      },
      "execution_count": 100,
      "outputs": [
        {
          "output_type": "stream",
          "name": "stdout",
          "text": [
            "crystal:trigonal, symbol: R3m, number: 160\n"
          ]
        }
      ]
    },
    {
      "cell_type": "code",
      "source": [
        "ss.to('lowest.cif')"
      ],
      "metadata": {
        "colab": {
          "base_uri": "https://localhost:8080/",
          "height": 140
        },
        "id": "aKLNg-RAhII5",
        "outputId": "eb68c71b-b709-491f-fb68-6c65d96d5f3b"
      },
      "execution_count": 96,
      "outputs": [
        {
          "output_type": "execute_result",
          "data": {
            "text/plain": [
              "\"# generated using pymatgen\\ndata_Li3TiMnO3F2\\n_symmetry_space_group_name_H-M   'P 1'\\n_cell_length_a   2.97437400\\n_cell_length_b   2.97437400\\n_cell_length_c   14.87187000\\n_cell_angle_alpha   60.00000000\\n_cell_angle_beta   60.00000000\\n_cell_angle_gamma   60.00000000\\n_symmetry_Int_Tables_number   1\\n_chemical_formula_structural   Li3TiMnO3F2\\n_chemical_formula_sum   'Li3 Ti1 Mn1 O3 F2'\\n_cell_volume   93.03400879\\n_cell_formula_units_Z   1\\nloop_\\n _symmetry_equiv_pos_site_id\\n _symmetry_equiv_pos_as_xyz\\n  1  'x, y, z'\\nloop_\\n _atom_type_symbol\\n _atom_type_oxidation_number\\n  Li+  1.0\\n  Ti4+  4.0\\n  Mn3+  3.0\\n  O2-  -2.0\\n  F-  -1.0\\nloop_\\n _atom_site_type_symbol\\n _atom_site_label\\n _atom_site_symmetry_multiplicity\\n _atom_site_fract_x\\n _atom_site_fract_y\\n _atom_site_fract_z\\n _atom_site_occupancy\\n  Li+  TI  1  0.00000000  0.00000000  0.00000000  1\\n  Li+  TI  1  0.00000000  0.00000000  0.20000000  1\\n  Li+  TI  1  0.00000000  0.00000000  0.60000000  1\\n  Ti4+  TI  1  0.00000000  0.00000000  0.80000000  1\\n  Mn3+  TI  1  0.00000000  0.00000000  0.40000000  1\\n  O2-  F  1  0.50000000  0.50000000  0.50000000  1\\n  O2-  F  1  0.50000000  0.50000000  0.70000000  1\\n  O2-  F  1  0.50000000  0.50000000  0.90000000  1\\n  F-  F  1  0.50000000  0.50000000  0.10000000  1\\n  F-  F  1  0.50000000  0.50000000  0.30000000  1\\n\""
            ],
            "application/vnd.google.colaboratory.intrinsic+json": {
              "type": "string"
            }
          },
          "metadata": {},
          "execution_count": 96
        }
      ]
    },
    {
      "cell_type": "code",
      "execution_count": 90,
      "metadata": {
        "colab": {
          "base_uri": "https://localhost:8080/",
          "height": 495
        },
        "id": "hqS5HRYBCkTJ",
        "outputId": "ac4c614a-034b-437e-9622-8f170a6e4eef"
      },
      "outputs": [
        {
          "output_type": "error",
          "ename": "KeyError",
          "evalue": "\"Invalid key='structure'\"",
          "traceback": [
            "\u001b[0;31m---------------------------------------------------------------------------\u001b[0m",
            "\u001b[0;31mValueError\u001b[0m                                Traceback (most recent call last)",
            "\u001b[0;32m/usr/local/lib/python3.10/dist-packages/pymatgen/core/periodic_table.py\u001b[0m in \u001b[0;36mget_el_sp\u001b[0;34m(obj)\u001b[0m\n\u001b[1;32m   1667\u001b[0m     \u001b[0;32mtry\u001b[0m\u001b[0;34m:\u001b[0m\u001b[0;34m\u001b[0m\u001b[0;34m\u001b[0m\u001b[0m\n\u001b[0;32m-> 1668\u001b[0;31m         \u001b[0;32mreturn\u001b[0m \u001b[0mDummySpecies\u001b[0m\u001b[0;34m.\u001b[0m\u001b[0mfrom_str\u001b[0m\u001b[0;34m(\u001b[0m\u001b[0mobj\u001b[0m\u001b[0;34m)\u001b[0m  \u001b[0;31m# type: ignore[arg-type]\u001b[0m\u001b[0;34m\u001b[0m\u001b[0;34m\u001b[0m\u001b[0m\n\u001b[0m\u001b[1;32m   1669\u001b[0m     \u001b[0;32mexcept\u001b[0m \u001b[0mException\u001b[0m \u001b[0;32mas\u001b[0m \u001b[0mexc\u001b[0m\u001b[0;34m:\u001b[0m\u001b[0;34m\u001b[0m\u001b[0;34m\u001b[0m\u001b[0m\n",
            "\u001b[0;32m/usr/local/lib/python3.10/dist-packages/pymatgen/core/periodic_table.py\u001b[0m in \u001b[0;36mfrom_str\u001b[0;34m(cls, species_string)\u001b[0m\n\u001b[1;32m   1569\u001b[0m                 \u001b[0mproperties\u001b[0m \u001b[0;34m=\u001b[0m \u001b[0;34m{\u001b[0m\u001b[0mtokens\u001b[0m\u001b[0;34m[\u001b[0m\u001b[0;36m0\u001b[0m\u001b[0;34m]\u001b[0m\u001b[0;34m:\u001b[0m \u001b[0mfloat\u001b[0m\u001b[0;34m(\u001b[0m\u001b[0mtokens\u001b[0m\u001b[0;34m[\u001b[0m\u001b[0;36m1\u001b[0m\u001b[0;34m]\u001b[0m\u001b[0;34m)\u001b[0m\u001b[0;34m}\u001b[0m\u001b[0;34m\u001b[0m\u001b[0;34m\u001b[0m\u001b[0m\n\u001b[0;32m-> 1570\u001b[0;31m             \u001b[0;32mreturn\u001b[0m \u001b[0mcls\u001b[0m\u001b[0;34m(\u001b[0m\u001b[0msym\u001b[0m\u001b[0;34m,\u001b[0m \u001b[0moxi\u001b[0m\u001b[0;34m,\u001b[0m \u001b[0;34m**\u001b[0m\u001b[0mproperties\u001b[0m\u001b[0;34m)\u001b[0m\u001b[0;34m\u001b[0m\u001b[0;34m\u001b[0m\u001b[0m\n\u001b[0m\u001b[1;32m   1571\u001b[0m         \u001b[0;32mraise\u001b[0m \u001b[0mValueError\u001b[0m\u001b[0;34m(\u001b[0m\u001b[0;34m\"Invalid DummySpecies String\"\u001b[0m\u001b[0;34m)\u001b[0m\u001b[0;34m\u001b[0m\u001b[0;34m\u001b[0m\u001b[0m\n",
            "\u001b[0;32m/usr/local/lib/python3.10/dist-packages/pymatgen/core/periodic_table.py\u001b[0m in \u001b[0;36m__init__\u001b[0;34m(self, symbol, oxidation_state, spin)\u001b[0m\n\u001b[1;32m   1463\u001b[0m             \u001b[0;32mif\u001b[0m \u001b[0mElement\u001b[0m\u001b[0;34m.\u001b[0m\u001b[0mis_valid_symbol\u001b[0m\u001b[0;34m(\u001b[0m\u001b[0msymbol\u001b[0m\u001b[0;34m[\u001b[0m\u001b[0;34m:\u001b[0m\u001b[0midx\u001b[0m\u001b[0;34m]\u001b[0m\u001b[0;34m)\u001b[0m\u001b[0;34m:\u001b[0m\u001b[0;34m\u001b[0m\u001b[0;34m\u001b[0m\u001b[0m\n\u001b[0;32m-> 1464\u001b[0;31m                 \u001b[0;32mraise\u001b[0m \u001b[0mValueError\u001b[0m\u001b[0;34m(\u001b[0m\u001b[0;34mf\"{symbol} contains {symbol[:idx]}, which is a valid element symbol\"\u001b[0m\u001b[0;34m)\u001b[0m\u001b[0;34m\u001b[0m\u001b[0;34m\u001b[0m\u001b[0m\n\u001b[0m\u001b[1;32m   1465\u001b[0m \u001b[0;34m\u001b[0m\u001b[0m\n",
            "\u001b[0;31mValueError\u001b[0m: Structure contains S, which is a valid element symbol",
            "\nThe above exception was the direct cause of the following exception:\n",
            "\u001b[0;31mValueError\u001b[0m                                Traceback (most recent call last)",
            "\u001b[0;32m/usr/local/lib/python3.10/dist-packages/pymatgen/core/composition.py\u001b[0m in \u001b[0;36m__getitem__\u001b[0;34m(self, key)\u001b[0m\n\u001b[1;32m    149\u001b[0m         \u001b[0;32mtry\u001b[0m\u001b[0;34m:\u001b[0m\u001b[0;34m\u001b[0m\u001b[0;34m\u001b[0m\u001b[0m\n\u001b[0;32m--> 150\u001b[0;31m             \u001b[0msp\u001b[0m \u001b[0;34m=\u001b[0m \u001b[0mget_el_sp\u001b[0m\u001b[0;34m(\u001b[0m\u001b[0mkey\u001b[0m\u001b[0;34m)\u001b[0m\u001b[0;34m\u001b[0m\u001b[0;34m\u001b[0m\u001b[0m\n\u001b[0m\u001b[1;32m    151\u001b[0m             \u001b[0;32mif\u001b[0m \u001b[0misinstance\u001b[0m\u001b[0;34m(\u001b[0m\u001b[0msp\u001b[0m\u001b[0;34m,\u001b[0m \u001b[0mSpecies\u001b[0m\u001b[0;34m)\u001b[0m\u001b[0;34m:\u001b[0m\u001b[0;34m\u001b[0m\u001b[0;34m\u001b[0m\u001b[0m\n",
            "\u001b[0;32m/usr/local/lib/python3.10/dist-packages/pymatgen/core/periodic_table.py\u001b[0m in \u001b[0;36mget_el_sp\u001b[0;34m(obj)\u001b[0m\n\u001b[1;32m   1669\u001b[0m     \u001b[0;32mexcept\u001b[0m \u001b[0mException\u001b[0m \u001b[0;32mas\u001b[0m \u001b[0mexc\u001b[0m\u001b[0;34m:\u001b[0m\u001b[0;34m\u001b[0m\u001b[0;34m\u001b[0m\u001b[0m\n\u001b[0;32m-> 1670\u001b[0;31m         \u001b[0;32mraise\u001b[0m \u001b[0mValueError\u001b[0m\u001b[0;34m(\u001b[0m\u001b[0;34mf\"Can't parse Element or Species from {obj!r}\"\u001b[0m\u001b[0;34m)\u001b[0m \u001b[0;32mfrom\u001b[0m \u001b[0mexc\u001b[0m\u001b[0;34m\u001b[0m\u001b[0;34m\u001b[0m\u001b[0m\n\u001b[0m\u001b[1;32m   1671\u001b[0m \u001b[0;34m\u001b[0m\u001b[0m\n",
            "\u001b[0;31mValueError\u001b[0m: Can't parse Element or Species from 'structure'",
            "\nThe above exception was the direct cause of the following exception:\n",
            "\u001b[0;31mKeyError\u001b[0m                                  Traceback (most recent call last)",
            "\u001b[0;32m<ipython-input-90-d06de96efd0f>\u001b[0m in \u001b[0;36m<cell line: 4>\u001b[0;34m()\u001b[0m\n\u001b[1;32m      2\u001b[0m \u001b[0;34m\u001b[0m\u001b[0m\n\u001b[1;32m      3\u001b[0m \u001b[0mmatcher\u001b[0m \u001b[0;34m=\u001b[0m \u001b[0mStructureMatcher\u001b[0m\u001b[0;34m(\u001b[0m\u001b[0;34m)\u001b[0m\u001b[0;34m\u001b[0m\u001b[0;34m\u001b[0m\u001b[0m\n\u001b[0;32m----> 4\u001b[0;31m \u001b[0mgroups\u001b[0m \u001b[0;34m=\u001b[0m \u001b[0mmatcher\u001b[0m\u001b[0;34m.\u001b[0m\u001b[0mgroup_structures\u001b[0m\u001b[0;34m(\u001b[0m\u001b[0;34m[\u001b[0m\u001b[0md\u001b[0m\u001b[0;34m[\u001b[0m\u001b[0;34m\"structure\"\u001b[0m\u001b[0;34m]\u001b[0m \u001b[0;32mfor\u001b[0m \u001b[0md\u001b[0m \u001b[0;32min\u001b[0m \u001b[0mss\u001b[0m\u001b[0;34m]\u001b[0m\u001b[0;34m)\u001b[0m\u001b[0;34m\u001b[0m\u001b[0;34m\u001b[0m\u001b[0m\n\u001b[0m\u001b[1;32m      5\u001b[0m \u001b[0mprint\u001b[0m\u001b[0;34m(\u001b[0m\u001b[0mlen\u001b[0m\u001b[0;34m(\u001b[0m\u001b[0mgroups\u001b[0m\u001b[0;34m)\u001b[0m\u001b[0;34m)\u001b[0m\u001b[0;34m\u001b[0m\u001b[0;34m\u001b[0m\u001b[0m\n\u001b[1;32m      6\u001b[0m \u001b[0mprint\u001b[0m\u001b[0;34m(\u001b[0m\u001b[0mgroups\u001b[0m\u001b[0;34m[\u001b[0m\u001b[0;36m0\u001b[0m\u001b[0;34m]\u001b[0m\u001b[0;34m[\u001b[0m\u001b[0;36m0\u001b[0m\u001b[0;34m]\u001b[0m\u001b[0;34m)\u001b[0m\u001b[0;34m\u001b[0m\u001b[0;34m\u001b[0m\u001b[0m\n",
            "\u001b[0;32m<ipython-input-90-d06de96efd0f>\u001b[0m in \u001b[0;36m<listcomp>\u001b[0;34m(.0)\u001b[0m\n\u001b[1;32m      2\u001b[0m \u001b[0;34m\u001b[0m\u001b[0m\n\u001b[1;32m      3\u001b[0m \u001b[0mmatcher\u001b[0m \u001b[0;34m=\u001b[0m \u001b[0mStructureMatcher\u001b[0m\u001b[0;34m(\u001b[0m\u001b[0;34m)\u001b[0m\u001b[0;34m\u001b[0m\u001b[0;34m\u001b[0m\u001b[0m\n\u001b[0;32m----> 4\u001b[0;31m \u001b[0mgroups\u001b[0m \u001b[0;34m=\u001b[0m \u001b[0mmatcher\u001b[0m\u001b[0;34m.\u001b[0m\u001b[0mgroup_structures\u001b[0m\u001b[0;34m(\u001b[0m\u001b[0;34m[\u001b[0m\u001b[0md\u001b[0m\u001b[0;34m[\u001b[0m\u001b[0;34m\"structure\"\u001b[0m\u001b[0;34m]\u001b[0m \u001b[0;32mfor\u001b[0m \u001b[0md\u001b[0m \u001b[0;32min\u001b[0m \u001b[0mss\u001b[0m\u001b[0;34m]\u001b[0m\u001b[0;34m)\u001b[0m\u001b[0;34m\u001b[0m\u001b[0;34m\u001b[0m\u001b[0m\n\u001b[0m\u001b[1;32m      5\u001b[0m \u001b[0mprint\u001b[0m\u001b[0;34m(\u001b[0m\u001b[0mlen\u001b[0m\u001b[0;34m(\u001b[0m\u001b[0mgroups\u001b[0m\u001b[0;34m)\u001b[0m\u001b[0;34m)\u001b[0m\u001b[0;34m\u001b[0m\u001b[0;34m\u001b[0m\u001b[0m\n\u001b[1;32m      6\u001b[0m \u001b[0mprint\u001b[0m\u001b[0;34m(\u001b[0m\u001b[0mgroups\u001b[0m\u001b[0;34m[\u001b[0m\u001b[0;36m0\u001b[0m\u001b[0;34m]\u001b[0m\u001b[0;34m[\u001b[0m\u001b[0;36m0\u001b[0m\u001b[0;34m]\u001b[0m\u001b[0;34m)\u001b[0m\u001b[0;34m\u001b[0m\u001b[0;34m\u001b[0m\u001b[0m\n",
            "\u001b[0;32m/usr/local/lib/python3.10/dist-packages/pymatgen/core/sites.py\u001b[0m in \u001b[0;36m__getitem__\u001b[0;34m(self, el)\u001b[0m\n\u001b[1;32m     88\u001b[0m     \u001b[0;32mdef\u001b[0m \u001b[0m__getitem__\u001b[0m\u001b[0;34m(\u001b[0m\u001b[0mself\u001b[0m\u001b[0;34m,\u001b[0m \u001b[0mel\u001b[0m\u001b[0;34m:\u001b[0m \u001b[0mElement\u001b[0m\u001b[0;34m)\u001b[0m \u001b[0;34m->\u001b[0m \u001b[0mfloat\u001b[0m\u001b[0;34m:\u001b[0m\u001b[0;34m\u001b[0m\u001b[0;34m\u001b[0m\u001b[0m\n\u001b[1;32m     89\u001b[0m         \u001b[0;34m\"\"\"Get the occupancy for element.\"\"\"\u001b[0m\u001b[0;34m\u001b[0m\u001b[0;34m\u001b[0m\u001b[0m\n\u001b[0;32m---> 90\u001b[0;31m         \u001b[0;32mreturn\u001b[0m \u001b[0mself\u001b[0m\u001b[0;34m.\u001b[0m\u001b[0mspecies\u001b[0m\u001b[0;34m[\u001b[0m\u001b[0mel\u001b[0m\u001b[0;34m]\u001b[0m\u001b[0;34m\u001b[0m\u001b[0;34m\u001b[0m\u001b[0m\n\u001b[0m\u001b[1;32m     91\u001b[0m \u001b[0;34m\u001b[0m\u001b[0m\n\u001b[1;32m     92\u001b[0m     \u001b[0;32mdef\u001b[0m \u001b[0m__eq__\u001b[0m\u001b[0;34m(\u001b[0m\u001b[0mself\u001b[0m\u001b[0;34m,\u001b[0m \u001b[0mother\u001b[0m\u001b[0;34m:\u001b[0m \u001b[0mobject\u001b[0m\u001b[0;34m)\u001b[0m \u001b[0;34m->\u001b[0m \u001b[0mbool\u001b[0m\u001b[0;34m:\u001b[0m\u001b[0;34m\u001b[0m\u001b[0;34m\u001b[0m\u001b[0m\n",
            "\u001b[0;32m/usr/local/lib/python3.10/dist-packages/pymatgen/core/composition.py\u001b[0m in \u001b[0;36m__getitem__\u001b[0;34m(self, key)\u001b[0m\n\u001b[1;32m    156\u001b[0m             )\n\u001b[1;32m    157\u001b[0m         \u001b[0;32mexcept\u001b[0m \u001b[0mValueError\u001b[0m \u001b[0;32mas\u001b[0m \u001b[0mexc\u001b[0m\u001b[0;34m:\u001b[0m\u001b[0;34m\u001b[0m\u001b[0;34m\u001b[0m\u001b[0m\n\u001b[0;32m--> 158\u001b[0;31m             \u001b[0;32mraise\u001b[0m \u001b[0mKeyError\u001b[0m\u001b[0;34m(\u001b[0m\u001b[0;34mf\"Invalid {key=}\"\u001b[0m\u001b[0;34m)\u001b[0m \u001b[0;32mfrom\u001b[0m \u001b[0mexc\u001b[0m\u001b[0;34m\u001b[0m\u001b[0;34m\u001b[0m\u001b[0m\n\u001b[0m\u001b[1;32m    159\u001b[0m \u001b[0;34m\u001b[0m\u001b[0m\n\u001b[1;32m    160\u001b[0m     \u001b[0;32mdef\u001b[0m \u001b[0m__len__\u001b[0m\u001b[0;34m(\u001b[0m\u001b[0mself\u001b[0m\u001b[0;34m)\u001b[0m \u001b[0;34m->\u001b[0m \u001b[0mint\u001b[0m\u001b[0;34m:\u001b[0m\u001b[0;34m\u001b[0m\u001b[0;34m\u001b[0m\u001b[0m\n",
            "\u001b[0;31mKeyError\u001b[0m: \"Invalid key='structure'\""
          ]
        }
      ],
      "source": [
        "from pymatgen.analysis.structure_matcher import StructureMatcher\n",
        "\n",
        "matcher = StructureMatcher()\n",
        "groups = matcher.group_structures([d[\"structure\"] for d in ss])\n",
        "print(len(groups))\n",
        "print(groups[0][0])"
      ]
    },
    {
      "cell_type": "code",
      "source": [
        "for i in range(len(groups)):\n",
        "  print(groups[i][])"
      ],
      "metadata": {
        "collapsed": true,
        "colab": {
          "base_uri": "https://localhost:8080/"
        },
        "id": "jKaaxLXNNP6S",
        "outputId": "650b38c1-99d4-439f-dad8-fe339052ccdc"
      },
      "execution_count": 86,
      "outputs": [
        {
          "output_type": "stream",
          "name": "stdout",
          "text": [
            "Full Formula (Li3 Ti1 Mn1 O3 F2)\n",
            "Reduced Formula: Li3TiMnO3F2\n",
            "abc   :   2.974374   2.974374  14.871870\n",
            "angles:  60.000000  60.000000  60.000000\n",
            "pbc   :       True       True       True\n",
            "Sites (10)\n",
            "  #  SP      a    b    c\n",
            "---  ----  ---  ---  ---\n",
            "  0  Li+   0    0    0\n",
            "  1  Li+   0    0    0.4\n",
            "  2  Li+   0    0    0.6\n",
            "  3  Ti4+  0    0    0.8\n",
            "  4  Mn3+  0    0    0.2\n",
            "  5  O2-   0.5  0.5  0.1\n",
            "  6  O2-   0.5  0.5  0.7\n",
            "  7  O2-   0.5  0.5  0.9\n",
            "  8  F-    0.5  0.5  0.3\n",
            "  9  F-    0.5  0.5  0.5\n",
            "Full Formula (Li3 Ti1 Mn1 O3 F2)\n",
            "Reduced Formula: Li3TiMnO3F2\n",
            "abc   :   2.974374   2.974374  14.871870\n",
            "angles:  60.000000  60.000000  60.000000\n",
            "pbc   :       True       True       True\n",
            "Sites (10)\n",
            "  #  SP      a    b    c\n",
            "---  ----  ---  ---  ---\n",
            "  0  Li+   0    0    0\n",
            "  1  Li+   0    0    0.4\n",
            "  2  Li+   0    0    0.6\n",
            "  3  Ti4+  0    0    0.8\n",
            "  4  Mn3+  0    0    0.2\n",
            "  5  O2-   0.5  0.5  0.3\n",
            "  6  O2-   0.5  0.5  0.7\n",
            "  7  O2-   0.5  0.5  0.9\n",
            "  8  F-    0.5  0.5  0.1\n",
            "  9  F-    0.5  0.5  0.5\n",
            "Full Formula (Li3 Ti1 Mn1 O3 F2)\n",
            "Reduced Formula: Li3TiMnO3F2\n",
            "abc   :   2.974374   2.974374  14.871870\n",
            "angles:  60.000000  60.000000  60.000000\n",
            "pbc   :       True       True       True\n",
            "Sites (10)\n",
            "  #  SP      a    b    c\n",
            "---  ----  ---  ---  ---\n",
            "  0  Li+   0    0    0\n",
            "  1  Li+   0    0    0.4\n",
            "  2  Li+   0    0    0.6\n",
            "  3  Ti4+  0    0    0.8\n",
            "  4  Mn3+  0    0    0.2\n",
            "  5  O2-   0.5  0.5  0.1\n",
            "  6  O2-   0.5  0.5  0.3\n",
            "  7  O2-   0.5  0.5  0.9\n",
            "  8  F-    0.5  0.5  0.5\n",
            "  9  F-    0.5  0.5  0.7\n",
            "Full Formula (Li3 Ti1 Mn1 O3 F2)\n",
            "Reduced Formula: Li3TiMnO3F2\n",
            "abc   :   2.974374   2.974374  14.871870\n",
            "angles:  60.000000  60.000000  60.000000\n",
            "pbc   :       True       True       True\n",
            "Sites (10)\n",
            "  #  SP      a    b    c\n",
            "---  ----  ---  ---  ---\n",
            "  0  Li+   0    0    0\n",
            "  1  Li+   0    0    0.4\n",
            "  2  Li+   0    0    0.6\n",
            "  3  Ti4+  0    0    0.8\n",
            "  4  Mn3+  0    0    0.2\n",
            "  5  O2-   0.5  0.5  0.1\n",
            "  6  O2-   0.5  0.5  0.3\n",
            "  7  O2-   0.5  0.5  0.7\n",
            "  8  F-    0.5  0.5  0.5\n",
            "  9  F-    0.5  0.5  0.9\n",
            "Full Formula (Li3 Ti1 Mn1 O3 F2)\n",
            "Reduced Formula: Li3TiMnO3F2\n",
            "abc   :   2.974374   2.974374  14.871870\n",
            "angles:  60.000000  60.000000  60.000000\n",
            "pbc   :       True       True       True\n",
            "Sites (10)\n",
            "  #  SP      a    b    c\n",
            "---  ----  ---  ---  ---\n",
            "  0  Li+   0    0    0.4\n",
            "  1  Li+   0    0    0.6\n",
            "  2  Li+   0    0    0.8\n",
            "  3  Ti4+  0    0    0\n",
            "  4  Mn3+  0    0    0.2\n",
            "  5  O2-   0.5  0.5  0.1\n",
            "  6  O2-   0.5  0.5  0.3\n",
            "  7  O2-   0.5  0.5  0.9\n",
            "  8  F-    0.5  0.5  0.5\n",
            "  9  F-    0.5  0.5  0.7\n",
            "Full Formula (Li3 Ti1 Mn1 O3 F2)\n",
            "Reduced Formula: Li3TiMnO3F2\n",
            "abc   :   2.974374   2.974374  14.871870\n",
            "angles:  60.000000  60.000000  60.000000\n",
            "pbc   :       True       True       True\n",
            "Sites (10)\n",
            "  #  SP      a    b    c\n",
            "---  ----  ---  ---  ---\n",
            "  0  Li+   0    0    0\n",
            "  1  Li+   0    0    0.4\n",
            "  2  Li+   0    0    0.6\n",
            "  3  Ti4+  0    0    0.8\n",
            "  4  Mn3+  0    0    0.2\n",
            "  5  O2-   0.5  0.5  0.1\n",
            "  6  O2-   0.5  0.5  0.5\n",
            "  7  O2-   0.5  0.5  0.9\n",
            "  8  F-    0.5  0.5  0.3\n",
            "  9  F-    0.5  0.5  0.7\n",
            "Full Formula (Li3 Ti1 Mn1 O3 F2)\n",
            "Reduced Formula: Li3TiMnO3F2\n",
            "abc   :   2.974374   2.974374  14.871870\n",
            "angles:  60.000000  60.000000  60.000000\n",
            "pbc   :       True       True       True\n",
            "Sites (10)\n",
            "  #  SP      a    b    c\n",
            "---  ----  ---  ---  ---\n",
            "  0  Li+   0    0    0\n",
            "  1  Li+   0    0    0.4\n",
            "  2  Li+   0    0    0.6\n",
            "  3  Ti4+  0    0    0.8\n",
            "  4  Mn3+  0    0    0.2\n",
            "  5  O2-   0.5  0.5  0.5\n",
            "  6  O2-   0.5  0.5  0.7\n",
            "  7  O2-   0.5  0.5  0.9\n",
            "  8  F-    0.5  0.5  0.1\n",
            "  9  F-    0.5  0.5  0.3\n",
            "Full Formula (Li3 Ti1 Mn1 O3 F2)\n",
            "Reduced Formula: Li3TiMnO3F2\n",
            "abc   :   2.974374   2.974374  14.871870\n",
            "angles:  60.000000  60.000000  60.000000\n",
            "pbc   :       True       True       True\n",
            "Sites (10)\n",
            "  #  SP      a    b    c\n",
            "---  ----  ---  ---  ---\n",
            "  0  Li+   0    0    0\n",
            "  1  Li+   0    0    0.4\n",
            "  2  Li+   0    0    0.6\n",
            "  3  Ti4+  0    0    0.2\n",
            "  4  Mn3+  0    0    0.8\n",
            "  5  O2-   0.5  0.5  0.3\n",
            "  6  O2-   0.5  0.5  0.5\n",
            "  7  O2-   0.5  0.5  0.9\n",
            "  8  F-    0.5  0.5  0.1\n",
            "  9  F-    0.5  0.5  0.7\n",
            "Full Formula (Li3 Ti1 Mn1 O3 F2)\n",
            "Reduced Formula: Li3TiMnO3F2\n",
            "abc   :   2.974374   2.974374  14.871870\n",
            "angles:  60.000000  60.000000  60.000000\n",
            "pbc   :       True       True       True\n",
            "Sites (10)\n",
            "  #  SP      a    b    c\n",
            "---  ----  ---  ---  ---\n",
            "  0  Li+   0    0    0\n",
            "  1  Li+   0    0    0.4\n",
            "  2  Li+   0    0    0.6\n",
            "  3  Ti4+  0    0    0.8\n",
            "  4  Mn3+  0    0    0.2\n",
            "  5  O2-   0.5  0.5  0.3\n",
            "  6  O2-   0.5  0.5  0.5\n",
            "  7  O2-   0.5  0.5  0.9\n",
            "  8  F-    0.5  0.5  0.1\n",
            "  9  F-    0.5  0.5  0.7\n",
            "Full Formula (Li3 Ti1 Mn1 O3 F2)\n",
            "Reduced Formula: Li3TiMnO3F2\n",
            "abc   :   2.974374   2.974374  14.871870\n",
            "angles:  60.000000  60.000000  60.000000\n",
            "pbc   :       True       True       True\n",
            "Sites (10)\n",
            "  #  SP      a    b    c\n",
            "---  ----  ---  ---  ---\n",
            "  0  Li+   0    0    0.4\n",
            "  1  Li+   0    0    0.6\n",
            "  2  Li+   0    0    0.8\n",
            "  3  Ti4+  0    0    0.2\n",
            "  4  Mn3+  0    0    0\n",
            "  5  O2-   0.5  0.5  0.1\n",
            "  6  O2-   0.5  0.5  0.3\n",
            "  7  O2-   0.5  0.5  0.7\n",
            "  8  F-    0.5  0.5  0.5\n",
            "  9  F-    0.5  0.5  0.9\n"
          ]
        }
      ]
    },
    {
      "cell_type": "code",
      "source": [
        "for i in range(len(groups)):\n",
        "  for j in range(len(groups[i])):\n",
        "    groups[i][j].to(filename=f\"/content/drive/MyDrive/LMTOF_Disorder_to_Order/CIFS/CIF_{i}_{j}.cif\")\n",
        "  # groups[i].to(filename=\"/content/drive/MyDrive/LMTOF_Disorder_to_Order/CIFS/CIF_%d.cif\" % i)"
      ],
      "metadata": {
        "id": "TaJdCRfNMmaL"
      },
      "execution_count": 82,
      "outputs": []
    },
    {
      "cell_type": "code",
      "source": [
        "from pymatgen.symmetry.analyzer import SpacegroupAnalyzer\n",
        "from pymatgen.core import Structure, Lattice\n",
        "from tabulate import tabulate\n",
        "\n",
        "# for i in range(len(ss)):\n",
        "#   structure = Structure.from_file(f\"/content/drive/MyDrive/LMTOF_ENUMLIB/CIFS/CIF_{i}.cif\")\n",
        "#   sga_default = SpacegroupAnalyzer(structure)\n",
        "#   sg_symbol, sg_number,sg_crystal = sga_default.get_space_group_symbol(), sga_default.get_space_group_number(),sga_default.get_crystal_system()\n",
        "# # structure = Structure.from_file(\"/content/drive/MyDrive/LMTOF_ENUMLIB/CIFS/CIF_%d.cif\")\n",
        "# # sga_default = SpacegroupAnalyzer(structure)\n",
        "# # sg_symbol, sg_number = sga_default.get_space_group_symbol(), sga_default.get_space_group_number()\n",
        "\n",
        "#   # print(f\"crystal: {sg_crystal}  spacegroup: symbol: {sg_symbol}, number: {sg_number}\")\n",
        "\n",
        "#   data.append([sg_crystal,sg_symbol,sg_number])\n",
        "# print(tabulate(data, headers=[\"crystal\",\"spacegroup\",\"number\"]))\n",
        "for i in range(len(groups)):\n",
        "  data = []\n",
        "  for j in range(len(groups[i])):\n",
        "    structure = Structure.from_file(f\"/content/drive/MyDrive/LMTOF_Disorder_to_Order/CIFS/CIF_{i}_{j}.cif\")\n",
        "    sga_default = SpacegroupAnalyzer(structure)\n",
        "    print(i,j)\n",
        "    sg_symbol, sg_number,sg_crystal = sga_default.get_space_group_symbol(), sga_default.get_space_group_number(),sga_default.get_crystal_system()\n",
        "    data.append([sg_crystal,sg_symbol,sg_number])\n",
        "  print(tabulate(data, headers=[\"crystal\",\"spacegroup\",\"number\"]))\n",
        "    # groups[i][j].to(filename=f\"/content/drive/MyDrive/LMTOF_Disorder_to_Order/CIFS/CIF_{i}_{j}.cif\")\n",
        "  # groups[i].to(filename=\"/content/drive/MyDrive/LMTOF_Disorder_to_Order/CIFS/CIF_%d.cif\" % i)"
      ],
      "metadata": {
        "colab": {
          "base_uri": "https://localhost:8080/"
        },
        "id": "uh-AdxU4OS0k",
        "outputId": "e1193afe-99ff-4dde-ece4-a1c6c410c4a3"
      },
      "execution_count": 83,
      "outputs": [
        {
          "output_type": "stream",
          "name": "stdout",
          "text": [
            "0 0\n",
            "0 1\n",
            "0 2\n",
            "0 3\n",
            "0 4\n",
            "0 5\n",
            "0 6\n",
            "0 7\n",
            "0 8\n",
            "0 9\n",
            "crystal    spacegroup      number\n",
            "---------  ------------  --------\n",
            "trigonal   R3m                160\n",
            "trigonal   R3m                160\n",
            "trigonal   R3m                160\n",
            "trigonal   R3m                160\n",
            "trigonal   R3m                160\n",
            "trigonal   R3m                160\n",
            "trigonal   R3m                160\n",
            "trigonal   R3m                160\n",
            "trigonal   R3m                160\n",
            "trigonal   R3m                160\n",
            "1 0\n",
            "1 1\n",
            "1 2\n",
            "1 3\n",
            "1 4\n",
            "1 5\n",
            "1 6\n",
            "1 7\n",
            "1 8\n",
            "1 9\n",
            "crystal    spacegroup      number\n",
            "---------  ------------  --------\n",
            "trigonal   R3m                160\n",
            "trigonal   R3m                160\n",
            "trigonal   R3m                160\n",
            "trigonal   R3m                160\n",
            "trigonal   R3m                160\n",
            "trigonal   R3m                160\n",
            "trigonal   R3m                160\n",
            "trigonal   R3m                160\n",
            "trigonal   R3m                160\n",
            "trigonal   R3m                160\n",
            "2 0\n",
            "2 1\n",
            "2 2\n",
            "2 3\n",
            "2 4\n",
            "2 5\n",
            "2 6\n",
            "2 7\n",
            "2 8\n",
            "2 9\n",
            "crystal    spacegroup      number\n",
            "---------  ------------  --------\n",
            "trigonal   R3m                160\n",
            "trigonal   R3m                160\n",
            "trigonal   R3m                160\n",
            "trigonal   R3m                160\n",
            "trigonal   R3m                160\n",
            "trigonal   R3m                160\n",
            "trigonal   R3m                160\n",
            "trigonal   R3m                160\n",
            "trigonal   R3m                160\n",
            "trigonal   R3m                160\n",
            "3 0\n",
            "3 1\n",
            "3 2\n",
            "3 3\n",
            "3 4\n",
            "3 5\n",
            "3 6\n",
            "3 7\n",
            "3 8\n",
            "3 9\n",
            "crystal    spacegroup      number\n",
            "---------  ------------  --------\n",
            "trigonal   R3m                160\n",
            "trigonal   R3m                160\n",
            "trigonal   R3m                160\n",
            "trigonal   R3m                160\n",
            "trigonal   R3m                160\n",
            "trigonal   R3m                160\n",
            "trigonal   R3m                160\n",
            "trigonal   R3m                160\n",
            "trigonal   R3m                160\n",
            "trigonal   R3m                160\n",
            "4 0\n",
            "4 1\n",
            "4 2\n",
            "4 3\n",
            "4 4\n",
            "4 5\n",
            "4 6\n",
            "4 7\n",
            "4 8\n",
            "4 9\n",
            "crystal    spacegroup      number\n",
            "---------  ------------  --------\n",
            "trigonal   R3m                160\n",
            "trigonal   R3m                160\n",
            "trigonal   R3m                160\n",
            "trigonal   R3m                160\n",
            "trigonal   R3m                160\n",
            "trigonal   R3m                160\n",
            "trigonal   R3m                160\n",
            "trigonal   R3m                160\n",
            "trigonal   R3m                160\n",
            "trigonal   R3m                160\n",
            "5 0\n",
            "5 1\n",
            "5 2\n",
            "5 3\n",
            "5 4\n",
            "5 5\n",
            "5 6\n",
            "5 7\n",
            "5 8\n",
            "5 9\n",
            "crystal    spacegroup      number\n",
            "---------  ------------  --------\n",
            "trigonal   R3m                160\n",
            "trigonal   R3m                160\n",
            "trigonal   R3m                160\n",
            "trigonal   R3m                160\n",
            "trigonal   R3m                160\n",
            "trigonal   R3m                160\n",
            "trigonal   R3m                160\n",
            "trigonal   R3m                160\n",
            "trigonal   R3m                160\n",
            "trigonal   R3m                160\n",
            "6 0\n",
            "6 1\n",
            "6 2\n",
            "6 3\n",
            "6 4\n",
            "6 5\n",
            "6 6\n",
            "6 7\n",
            "6 8\n",
            "6 9\n",
            "crystal    spacegroup      number\n",
            "---------  ------------  --------\n",
            "trigonal   R3m                160\n",
            "trigonal   R3m                160\n",
            "trigonal   R3m                160\n",
            "trigonal   R3m                160\n",
            "trigonal   R3m                160\n",
            "trigonal   R3m                160\n",
            "trigonal   R3m                160\n",
            "trigonal   R3m                160\n",
            "trigonal   R3m                160\n",
            "trigonal   R3m                160\n",
            "7 0\n",
            "7 1\n",
            "7 2\n",
            "7 3\n",
            "7 4\n",
            "7 5\n",
            "7 6\n",
            "7 7\n",
            "7 8\n",
            "7 9\n",
            "crystal    spacegroup      number\n",
            "---------  ------------  --------\n",
            "trigonal   R3m                160\n",
            "trigonal   R3m                160\n",
            "trigonal   R3m                160\n",
            "trigonal   R3m                160\n",
            "trigonal   R3m                160\n",
            "trigonal   R3m                160\n",
            "trigonal   R3m                160\n",
            "trigonal   R3m                160\n",
            "trigonal   R3m                160\n",
            "trigonal   R3m                160\n",
            "8 0\n",
            "8 1\n",
            "8 2\n",
            "8 3\n",
            "8 4\n",
            "8 5\n",
            "8 6\n",
            "8 7\n",
            "8 8\n",
            "8 9\n",
            "crystal    spacegroup      number\n",
            "---------  ------------  --------\n",
            "trigonal   R3m                160\n",
            "trigonal   R3m                160\n",
            "trigonal   R3m                160\n",
            "trigonal   R3m                160\n",
            "trigonal   R3m                160\n",
            "trigonal   R3m                160\n",
            "trigonal   R3m                160\n",
            "trigonal   R3m                160\n",
            "trigonal   R3m                160\n",
            "trigonal   R3m                160\n",
            "9 0\n",
            "9 1\n",
            "9 2\n",
            "9 3\n",
            "9 4\n",
            "9 5\n",
            "9 6\n",
            "9 7\n",
            "9 8\n",
            "9 9\n",
            "crystal    spacegroup      number\n",
            "---------  ------------  --------\n",
            "trigonal   R3m                160\n",
            "trigonal   R3m                160\n",
            "trigonal   R3m                160\n",
            "trigonal   R3m                160\n",
            "trigonal   R3m                160\n",
            "trigonal   R3m                160\n",
            "trigonal   R3m                160\n",
            "trigonal   R3m                160\n",
            "trigonal   R3m                160\n",
            "trigonal   R3m                160\n"
          ]
        }
      ]
    },
    {
      "cell_type": "markdown",
      "metadata": {
        "id": "bdjvU7I8CkTK"
      },
      "source": [
        "## Method 2 - Using the EnumerateStructureTransformation\n",
        "\n",
        "If you have enumlib installed, you can use the EnumerateStructureTransformation. This automatically takes care of symmetrically equivalent orderings and can enumerate supercells, but is much more prone to parameter sensitivity and cannot handle very large structures. The example below shows an enumerate of CuAu up to cell sizes of 4."
      ]
    },
    {
      "cell_type": "code",
      "execution_count": 43,
      "metadata": {
        "id": "gVJrBVb8CkTK"
      },
      "outputs": [],
      "source": [
        "from pymatgen.transformations.advanced_transformations import (\n",
        "    EnumerateStructureTransformation,\n",
        ")\n",
        "\n",
        "# specie = {\"Cu\": 0.5, \"Au\": 0.5}\n",
        "# cuau = Structure.from_spacegroup(\"Fm-3m\", Lattice.cubic(3.677), [specie], [[0, 0, 0]])\n",
        "\n",
        "trans = EnumerateStructureTransformation(max_cell_size=100)\n",
        "ss = trans.apply_transformation(cuau, return_ranked_list=1000)"
      ]
    },
    {
      "cell_type": "code",
      "execution_count": 46,
      "metadata": {
        "colab": {
          "base_uri": "https://localhost:8080/"
        },
        "id": "vC95hHjwCkTL",
        "outputId": "a664ee5d-51cd-4c5a-be83-8b3f309ff319"
      },
      "outputs": [
        {
          "output_type": "stream",
          "name": "stdout",
          "text": [
            "90\n",
            "cell sizes are [10, 10, 10, 10, 10, 10, 10, 10, 10, 10, 10, 10, 10, 10, 10, 10, 10, 10, 10, 10, 10, 10, 10, 10, 10, 10, 10, 10, 10, 10, 10, 10, 10, 10, 10, 10, 10, 10, 10, 10, 10, 10, 10, 10, 10, 10, 10, 10, 10, 10, 10, 10, 10, 10, 10, 10, 10, 10, 10, 10, 10, 10, 10, 10, 10, 10, 10, 10, 10, 10, 10, 10, 10, 10, 10, 10, 10, 10, 10, 10, 10, 10, 10, 10, 10, 10, 10, 10, 10, 10]\n"
          ]
        }
      ],
      "source": [
        "print(len(ss))\n",
        "print(\"cell sizes are %s\" % ([len(d[\"structure\"]) for d in ss]))"
      ]
    },
    {
      "cell_type": "code",
      "source": [
        "from google.colab import drive\n",
        "drive.mount('/content/drive')"
      ],
      "metadata": {
        "colab": {
          "base_uri": "https://localhost:8080/"
        },
        "id": "DEMqc7oZDuvh",
        "outputId": "b1bb19e6-4248-48d3-f738-ebfe9c5fe9b0"
      },
      "execution_count": 47,
      "outputs": [
        {
          "output_type": "stream",
          "name": "stdout",
          "text": [
            "Drive already mounted at /content/drive; to attempt to forcibly remount, call drive.mount(\"/content/drive\", force_remount=True).\n"
          ]
        }
      ]
    },
    {
      "cell_type": "code",
      "execution_count": 50,
      "metadata": {
        "id": "56C0zrClCkTL"
      },
      "outputs": [],
      "source": [
        "# The following two lines write all the structures to CIF files with names CuAu_0.cif, CuAu_1.cif, ...\n",
        "for i, d in enumerate(ss):\n",
        "    d[\"structure\"].to(filename=\"/content/drive/MyDrive/LMTOF_ENUMLIB/CIFS/CIF_%d.cif\" % i)"
      ]
    },
    {
      "cell_type": "code",
      "source": [
        "from pymatgen.symmetry.analyzer import SpacegroupAnalyzer\n",
        "from pymatgen.core import Structure, Lattice\n",
        "from tabulate import tabulate\n",
        "data = []\n",
        "for i in range(len(ss)):\n",
        "  structure = Structure.from_file(f\"/content/drive/MyDrive/LMTOF_ENUMLIB/CIFS/CIF_{i}.cif\")\n",
        "  sga_default = SpacegroupAnalyzer(structure)\n",
        "  sg_symbol, sg_number,sg_crystal = sga_default.get_space_group_symbol(), sga_default.get_space_group_number(),sga_default.get_crystal_system()\n",
        "# structure = Structure.from_file(\"/content/drive/MyDrive/LMTOF_ENUMLIB/CIFS/CIF_%d.cif\")\n",
        "# sga_default = SpacegroupAnalyzer(structure)\n",
        "# sg_symbol, sg_number = sga_default.get_space_group_symbol(), sga_default.get_space_group_number()\n",
        "\n",
        "  # print(f\"crystal: {sg_crystal}  spacegroup: symbol: {sg_symbol}, number: {sg_number}\")\n",
        "\n",
        "  data.append([sg_crystal,sg_symbol,sg_number])\n",
        "print(tabulate(data, headers=[\"crystal\",\"spacegroup\",\"number\"]))"
      ],
      "metadata": {
        "colab": {
          "base_uri": "https://localhost:8080/"
        },
        "id": "MFSNsmyBHf5T",
        "outputId": "a3eb076b-0116-4a06-deaf-1976af518628"
      },
      "execution_count": 57,
      "outputs": [
        {
          "output_type": "stream",
          "name": "stdout",
          "text": [
            "crystal       spacegroup      number\n",
            "------------  ------------  --------\n",
            "monoclinic    Cm                   8\n",
            "orthorhombic  Imm2                44\n",
            "tetragonal    I4mm               107\n",
            "trigonal      R3m                160\n",
            "tetragonal    I4mm               107\n",
            "tetragonal    I4mm               107\n",
            "monoclinic    Cm                   8\n",
            "trigonal      R3m                160\n",
            "orthorhombic  Imm2                44\n",
            "orthorhombic  Imm2                44\n",
            "trigonal      R3m                160\n",
            "tetragonal    I4mm               107\n",
            "monoclinic    Cm                   8\n",
            "monoclinic    Cm                   8\n",
            "monoclinic    Cm                   8\n",
            "orthorhombic  Imm2                44\n",
            "tetragonal    I4mm               107\n",
            "monoclinic    Cm                   8\n",
            "monoclinic    Cm                   8\n",
            "tetragonal    I4mm               107\n",
            "orthorhombic  Imm2                44\n",
            "monoclinic    Cm                   8\n",
            "tetragonal    I4mm               107\n",
            "monoclinic    Cm                   8\n",
            "trigonal      R3m                160\n",
            "monoclinic    Cm                   8\n",
            "orthorhombic  Imm2                44\n",
            "orthorhombic  Imm2                44\n",
            "trigonal      R3m                160\n",
            "monoclinic    Cm                   8\n",
            "orthorhombic  Imm2                44\n",
            "monoclinic    Cm                   8\n",
            "trigonal      R3m                160\n",
            "monoclinic    Cm                   8\n",
            "trigonal      R3m                160\n",
            "trigonal      R3m                160\n",
            "orthorhombic  Imm2                44\n",
            "orthorhombic  Imm2                44\n",
            "trigonal      R3m                160\n",
            "monoclinic    Cm                   8\n",
            "trigonal      R3m                160\n",
            "orthorhombic  Imm2                44\n",
            "tetragonal    I4mm               107\n",
            "monoclinic    Cm                   8\n",
            "orthorhombic  Imm2                44\n",
            "tetragonal    I4mm               107\n",
            "tetragonal    I4mm               107\n",
            "monoclinic    Cm                   8\n",
            "orthorhombic  Imm2                44\n",
            "tetragonal    I4mm               107\n",
            "trigonal      R3m                160\n",
            "tetragonal    I4mm               107\n",
            "orthorhombic  Imm2                44\n",
            "trigonal      R3m                160\n",
            "monoclinic    Cm                   8\n",
            "trigonal      R3m                160\n",
            "tetragonal    I4mm               107\n",
            "trigonal      R3m                160\n",
            "monoclinic    Cm                   8\n",
            "monoclinic    Cm                   8\n",
            "monoclinic    Cm                   8\n",
            "trigonal      R3m                160\n",
            "monoclinic    Cm                   8\n",
            "trigonal      R3m                160\n",
            "trigonal      R3m                160\n",
            "tetragonal    I4mm               107\n",
            "orthorhombic  Imm2                44\n",
            "orthorhombic  Imm2                44\n",
            "orthorhombic  Imm2                44\n",
            "tetragonal    I4mm               107\n",
            "trigonal      R3m                160\n",
            "tetragonal    I4mm               107\n",
            "orthorhombic  Imm2                44\n",
            "tetragonal    I4mm               107\n",
            "monoclinic    Cm                   8\n",
            "monoclinic    Cm                   8\n",
            "trigonal      R3m                160\n",
            "monoclinic    Cm                   8\n",
            "monoclinic    Cm                   8\n",
            "orthorhombic  Imm2                44\n",
            "orthorhombic  Imm2                44\n",
            "tetragonal    I4mm               107\n",
            "monoclinic    Cm                   8\n",
            "trigonal      R3m                160\n",
            "monoclinic    Cm                   8\n",
            "tetragonal    I4mm               107\n",
            "tetragonal    I4mm               107\n",
            "monoclinic    Cm                   8\n",
            "monoclinic    Cm                   8\n",
            "monoclinic    Cm                   8\n"
          ]
        }
      ]
    },
    {
      "cell_type": "markdown",
      "metadata": {
        "id": "Iwpx3mb7CkTM"
      },
      "source": [
        "Note that structures with cell sizes ranging from 1-3x the unit cell size is generated."
      ]
    },
    {
      "cell_type": "markdown",
      "metadata": {
        "id": "qmNVtxt1CkTM"
      },
      "source": [
        "## Conclusion\n",
        "\n",
        "This notebook illustrates two basic ordering/enumeration approaches. In general, OrderDisorderedTransformation works better for large cells and is useful if you need just any quick plausible ordering. EnumerateStructureTransformation is more rigorous, but is prone to sensitivity errors and may require fiddling with various parameters."
      ]
    }
  ],
  "metadata": {
    "kernelspec": {
      "display_name": "Python 3 (ipykernel)",
      "language": "python",
      "name": "python3"
    },
    "language_info": {
      "codemirror_mode": {
        "name": "ipython",
        "version": 3
      },
      "file_extension": ".py",
      "mimetype": "text/x-python",
      "name": "python",
      "nbconvert_exporter": "python",
      "pygments_lexer": "ipython3",
      "version": "3.11.8"
    },
    "colab": {
      "provenance": []
    }
  },
  "nbformat": 4,
  "nbformat_minor": 0
}